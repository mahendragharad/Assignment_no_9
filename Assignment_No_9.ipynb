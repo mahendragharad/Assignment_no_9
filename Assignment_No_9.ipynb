{
  "nbformat": 4,
  "nbformat_minor": 0,
  "metadata": {
    "colab": {
      "provenance": []
    },
    "kernelspec": {
      "name": "python3",
      "display_name": "Python 3"
    },
    "language_info": {
      "name": "python"
    }
  },
  "cells": [
    {
      "cell_type": "markdown",
      "source": [
        "**1. To what does a relative path refer?**\n",
        "\n",
        "ANS : A relative path refers to a file or directory location that is relative to the current working directory or another specified reference point.\n",
        "\n",
        " It does not start with the root directory (e.g., / in Unix-based systems or C:\\ in Windows) but provides a path that is relative to the current directory.\n",
        "\n",
        "For example, let's say the current working directory is /home/user/ and there is a file named document.txt located in the directory /home/user/docs/.\n",
        "\n",
        "The absolute path to document.txt is /home/user/docs/document.txt, specifying the full path from the root directory.\n",
        "\n",
        "The relative path to document.txt from the current working directory is docs/document.txt, as it is relative to the current directory /home/user/."
      ],
      "metadata": {
        "id": "F8VY9jnqalDp"
      }
    },
    {
      "cell_type": "markdown",
      "source": [
        "\n",
        "\n",
        "---\n",
        "\n"
      ],
      "metadata": {
        "id": "zYb851zDcL77"
      }
    },
    {
      "cell_type": "markdown",
      "source": [
        "**2. What does an absolute path start with your operating system?**\n",
        "\n",
        "ANS :\n",
        "\n",
        "The absolute path in an operating system specifies the complete and exact location of a file or directory starting from the root directory. The root directory is the top-level directory in a file system hierarchy.\n",
        "\n",
        "The format of an absolute path depends on the operating system:\n",
        "\n",
        "* In Windows:\n",
        "\n",
        "An absolute path starts with a drive letter followed by a colon : and a backslash \\.\n",
        "* For example: C:\\Users\\Username\\Documents\\document.txt"
      ],
      "metadata": {
        "id": "DaHzYRpCcNdt"
      }
    },
    {
      "cell_type": "markdown",
      "source": [
        "\n",
        "\n",
        "---\n",
        "\n"
      ],
      "metadata": {
        "id": "Xx5ZX7szdGtL"
      }
    },
    {
      "cell_type": "markdown",
      "source": [
        "**3. What do the functions os.getcwd() and os.chdir() do?**\n",
        "\n",
        "ANS :\n",
        "\n",
        "* os.getcwd():\n",
        "\n",
        "The os.getcwd() function returns a string representing the current working directory (CWD) of the Python script or the process.\n",
        "It does not take any arguments.\n",
        "\n",
        "The current working directory is the directory in which the Python script is currently executing.\n",
        "\n",
        "The function returns the absolute path of the current working directory as a string.\n",
        "\n",
        "* os.chdir(path):\n",
        "\n",
        "The os.chdir() function is used to change the current working directory to the specified path.\n",
        "\n",
        "It takes a single argument, path, which is the new directory path to which the working directory will be changed.\n",
        "\n",
        "The path argument can be either a relative path or an absolute path."
      ],
      "metadata": {
        "id": "zBRH9-gmdQ_H"
      }
    },
    {
      "cell_type": "markdown",
      "source": [
        "\n",
        "\n",
        "---\n",
        "\n"
      ],
      "metadata": {
        "id": "XmOAAPG4eCWq"
      }
    },
    {
      "cell_type": "markdown",
      "source": [
        "**4. What are the . and .. folders?**\n",
        "\n",
        "ANS :\n",
        "\n",
        "* . (Dot):\n",
        "\n",
        "The . (dot) folder represents the current directory.\n",
        "\n",
        "It is used to refer to the current directory in file system paths.\n",
        "\n",
        "For example, if the current working directory is /home/user/, then . refers to /home/user/.\n",
        "\n",
        "In command-line interfaces, . is often used to denote the current directory, e.g., to execute a script located in the current directory: ./script.py.\n",
        "\n",
        "* .. (Double Dot):\n",
        "\n",
        "The .. (double dot) folder represents the parent directory.\n",
        "\n",
        "It is used to refer to the parent directory in file system paths.\n",
        "\n",
        "For example, if the current working directory is /home/user/docs/, then .. refers to /home/user/.\n",
        "\n",
        "It is commonly used to navigate up one level in a file system hierarchy.\n",
        "\n",
        "In command-line interfaces, .. is often used to denote the parent directory, e.g., to navigate to the parent directory: cd ..."
      ],
      "metadata": {
        "id": "Y1U4xJYKeEPn"
      }
    },
    {
      "cell_type": "markdown",
      "source": [
        "\n",
        "\n",
        "---\n",
        "\n"
      ],
      "metadata": {
        "id": "QLQutUVHflr7"
      }
    },
    {
      "cell_type": "markdown",
      "source": [
        "**5. In C:\\bacon\\eggs\\spam.txt, which part is the dir name, and which part is the base name?**\n",
        "\n",
        "ANS :\n",
        "\n",
        "* The base name is spam.txt.\n",
        "\n",
        "The directory name refers to the path of the directory containing the file, while the base name refers to the actual name of the file itself."
      ],
      "metadata": {
        "id": "DUfS1B_Dfu4q"
      }
    },
    {
      "cell_type": "markdown",
      "source": [
        "\n",
        "\n",
        "---\n",
        "\n"
      ],
      "metadata": {
        "id": "GAONYGwygoxK"
      }
    },
    {
      "cell_type": "markdown",
      "source": [
        "**6. What are the three “mode” arguments that can be passed to the open() function?**\n",
        "\n",
        "ANS :\n",
        "\n",
        " The open() function in Python can accept different \"mode\" arguments to specify the intended mode of file access. The three commonly used mode arguments are:\n",
        "\n",
        "* 'r' (Read Mode):\n",
        "\n",
        "This mode is used for reading files.\n",
        "\n",
        "The file is opened for reading, and an error is raised if the file does not exist.\n",
        "\n",
        "It is the default mode if no mode argument is specified.\n",
        "Example: open('file.txt', 'r')\n",
        "\n",
        "* 'w' (Write Mode):\n",
        "\n",
        "This mode is used for writing files.\n",
        "\n",
        "The file is opened for writing. If the file already exists, its contents are truncated (cleared).\n",
        "\n",
        "If the file does not exist, a new file is created.\n",
        "Example: open('file.txt', 'w')\n",
        "\n",
        "* 'a' (Append Mode):\n",
        "\n",
        "This mode is used for appending data to a file.\n",
        "\n",
        "The file is opened for writing, but new data is appended at the end of the file, without truncating the existing contents.\n",
        "\n",
        "If the file does not exist, a new file is created.\n",
        "Example: open('file.txt', 'a')"
      ],
      "metadata": {
        "id": "bL5fhHI2hBcA"
      }
    },
    {
      "cell_type": "markdown",
      "source": [
        "\n",
        "\n",
        "---\n",
        "\n"
      ],
      "metadata": {
        "id": "UPvy636HhPCI"
      }
    },
    {
      "cell_type": "markdown",
      "source": [
        "**7. What happens if an existing file is opened in write mode?**\n",
        "\n",
        "ANS :\n",
        "\n",
        "* If the file exists:\n",
        "\n",
        "The file is opened for writing.\n",
        "\n",
        "The existing contents of the file are truncated, meaning they are completely removed and the file becomes empty.\n",
        "\n",
        "The file pointer is positioned at the beginning of the file.\n",
        "\n",
        "If any write operations are performed on the file, the new data will overwrite the previous contents of the file.\n",
        "\n",
        "If the write operation is successful, the changes are immediately reflected in the file.\n",
        "\n",
        "* If the file does not exist:\n",
        "\n",
        "A new file with the specified name is created.\n",
        "\n",
        "The file is opened for writing.\n",
        "\n",
        "The file pointer is positioned at the beginning of the file.\n",
        "\n",
        "If any write operations are performed on the file, the data will be written to the new file.\n",
        "\n",
        "If the write operation is successful, the data is written to the new file."
      ],
      "metadata": {
        "id": "n_JJ3AcEhfqE"
      }
    },
    {
      "cell_type": "markdown",
      "source": [
        "\n",
        "\n",
        "---\n",
        "\n"
      ],
      "metadata": {
        "id": "fyXdN-RTiSOf"
      }
    },
    {
      "cell_type": "markdown",
      "source": [
        "**8. How do you tell the difference between read() and readlines()?**\n",
        "\n",
        "ANS :\n",
        "\n",
        "* read():\n",
        "\n",
        "The read() method is used to read the entire contents of a file as a single string.\n",
        "\n",
        "It takes an optional argument size that specifies the maximum number of characters to read. If size is not specified, it will read the entire file.\n",
        "\n",
        "The returned value is a string that contains the entire contents of the file.\n",
        "\n",
        "Example: file.read()\n",
        "\n",
        "* readlines():\n",
        "\n",
        "The readlines() method is used to read the contents of a file line by line and returns a list of strings.\n",
        "\n",
        "It reads the entire file or the specified number of bytes and splits it into lines based on newline characters ('\\n').\n",
        "\n",
        "Each line is stored as an element in the returned list.\n",
        "\n",
        "Example: file.readlines()"
      ],
      "metadata": {
        "id": "wLujvbZQiTk_"
      }
    },
    {
      "cell_type": "markdown",
      "source": [
        "\n",
        "\n",
        "---\n",
        "\n"
      ],
      "metadata": {
        "id": "O2eqrp6Fisaj"
      }
    },
    {
      "cell_type": "markdown",
      "source": [
        "**9. What data structure does a shelf value resemble?**\n",
        "\n",
        "ANS : In Python, a shelf value resembles a dictionary-like data structure.\n",
        "\n",
        "A shelf is a persistent, dictionary-like object provided by the shelve module in Python. It allows you to store and retrieve Python objects using keys, just like a dictionary. The shelf data is stored in a file on the disk, providing a form of persistent storage."
      ],
      "metadata": {
        "id": "FUf_GP-4it3U"
      }
    },
    {
      "cell_type": "markdown",
      "source": [
        "\n",
        "\n",
        "---\n",
        "\n"
      ],
      "metadata": {
        "id": "5ouyUtMajCSu"
      }
    }
  ]
}